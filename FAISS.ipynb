{
 "cells": [
  {
   "cell_type": "markdown",
   "id": "2d6f340c",
   "metadata": {},
   "source": [
    "## FAISS (Facebook AI Semantic Similarity)"
   ]
  },
  {
   "cell_type": "raw",
   "id": "1bef24a1",
   "metadata": {},
   "source": [
    "Faiss is a library — developed by Facebook AI — that enables efficient similarity search.\n",
    "\n",
    "So, given a set of vectors, we can index them using Faiss — then using another vector (the query vector), we search for the most similar vectors within the index.\n",
    "\n",
    "Now, Faiss not only allows us to build an index and search — but it also speeds up search times to ludicrous performance levels — something we will explore throughout this article."
   ]
  },
  {
   "cell_type": "code",
   "execution_count": 1,
   "id": "86bf2526",
   "metadata": {},
   "outputs": [],
   "source": [
    "sentences = [\n",
    "    \"The cat is sleeping on the couch.\",\n",
    "    \"I enjoy reading books in my free time.\",\n",
    "    \"The sunsets on the beach are breathtaking.\",\n",
    "    \"She plays the piano beautifully.\",\n",
    "    \"The mountains are covered in snow.\",\n",
    "    \"The conference was informative and engaging.\",\n",
    "    \"Cooking is one of my favorite hobbies.\",\n",
    "    \"The city skyline at night is stunning.\",\n",
    "    \"He always makes me laugh with his jokes.\",\n",
    "    \"Learning new things is exciting.\",\n",
    "    \"The garden is full of colorful flowers.\",\n",
    "    \"She took a long walk in the forest.\",\n",
    "    \"Technology is shaping the future.\",\n",
    "    \"The movie kept me on the edge of my seat.\",\n",
    "    \"Traveling to new places broadens the mind.\",\n",
    "    \"The painting depicts a peaceful countryside.\",\n",
    "    \"He's an expert in his field of study.\",\n",
    "    \"The rain pattered softly on the window.\",\n",
    "    \"She wrote a heartfelt letter to her friend.\",\n",
    "    \"The recipe calls for fresh ingredients.\",\n",
    "    \"The team celebrated their victory enthusiastically.\",\n",
    "    \"The novel explores themes of love and loss.\",\n",
    "    \"He solved the puzzle in record time.\",\n",
    "    \"The river winds its way through the valley.\",\n",
    "    \"She gave a passionate speech about equality.\",\n",
    "    \"The architecture of the building is impressive.\",\n",
    "    \"The children played games in the park.\",\n",
    "    \"The aroma of freshly baked bread filled the air.\",\n",
    "    \"He captured a stunning photograph of the sunrise.\",\n",
    "    \"She designed her own unique fashion line.\",\n",
    "    \"The history museum is full of artifacts.\",\n",
    "    \"The thunderstorm rumbled in the distance.\",\n",
    "    \"He's known for his brilliant scientific discoveries.\",\n",
    "    \"The laughter of children is infectious.\",\n",
    "    \"She performed a graceful dance on stage.\",\n",
    "    \"The recipe has been passed down through generations.\",\n",
    "    \"The waves crashed against the rocky shore.\",\n",
    "    \"He demonstrated a clever magic trick.\",\n",
    "    \"The company is committed to sustainability.\",\n",
    "    \"She sang a soulful song with emotion.\",\n",
    "    \"The bakery sells a variety of delicious pastries.\",\n",
    "    \"He embarked on a journey of self-discovery.\",\n",
    "    \"The starry night sky is a sight to behold.\",\n",
    "    \"She volunteered at the local animal shelter.\",\n",
    "    \"The forest is home to diverse wildlife.\",\n",
    "    \"He created a masterpiece with his paintbrush.\",\n",
    "    \"The book's plot twists kept me guessing.\",\n",
    "    \"She enjoys experimenting with new recipes.\",\n",
    "    \"The athlete broke a world record.\",\n",
    "    \"The scent of flowers perfumed the garden.\",\n",
    "    \"He crafted a intricate sculpture from marble.\",\n",
    "    \"The scientific experiment yielded unexpected results.\",\n",
    "    \"She wrote a compelling story that moved readers.\",\n",
    "    \"The old castle is shrouded in mystery.\",\n",
    "    \"He composed a hauntingly beautiful melody.\",\n",
    "    \"The urban skyline is a blend of modernity and tradition.\",\n",
    "    \"She captured the essence of nature in her artwork.\",\n",
    "    \"The children eagerly anticipated the circus.\",\n",
    "    \"He composed a heartfelt love letter.\",\n",
    "    \"The historical novel is set during a turbulent time.\",\n",
    "    \"She danced with grace and elegance.\",\n",
    "    \"The recipe calls for a pinch of salt.\",\n",
    "    \"He discovered a hidden treasure in the attic.\",\n",
    "    \"The city comes alive with festivals in the summer.\",\n",
    "    \"She's a talented musician with a unique style.\",\n",
    "    \"The garden flourishes with vibrant colors.\",\n",
    "    \"He's a master storyteller with a vivid imagination.\",\n",
    "    \"The scent of pine fills the air in the forest.\",\n",
    "    \"She delivered an inspiring commencement speech.\",\n",
    "    \"The play's dialogue is witty and clever.\",\n",
    "    \"He captured the beauty of the landscape in his painting.\",\n",
    "    \"The aroma of coffee lured me into the cafe.\",\n",
    "    \"She's a skilled photographer who captures emotion.\",\n",
    "    \"The thunderstorm created a symphony of sound.\",\n",
    "    \"He crafted a delicate piece of jewelry.\",\n",
    "    \"The novel's characters are relatable and engaging.\",\n",
    "    \"The aroma of spices wafted from the kitchen.\",\n",
    "    \"She painted a breathtaking sunset scene.\",\n",
    "    \"The snowfall transformed the city into a winter wonderland.\",\n",
    "    \"He's an accomplished chef with a passion for cooking.\",\n",
    "    \"The dancers moved in perfect harmony.\",\n",
    "    \"The recipe requires precise measurements.\",\n",
    "    \"She explored the ancient ruins with wonder.\",\n",
    "    \"The symphony orchestra played a moving composition.\",\n",
    "    \"He wrote a thought-provoking essay on social issues.\",\n",
    "    \"The fragrance of flowers fills the garden.\",\n",
    "    \"She's a dedicated teacher who inspires her students.\",\n",
    "    \"The city's architecture reflects its rich history.\",\n",
    "    \"He captured a candid moment with his camera.\",\n",
    "    \"The characters in the story undergo personal growth.\",\n",
    "    \"The aroma of freshly brewed tea is comforting.\",\n",
    "    \"She's a talented actress with a versatile range.\",\n",
    "    \"The raindrops tapped rhythmically on the roof.\",\n",
    "    \"He carved an intricate design into the wood.\",\n",
    "    \"The novel's plot is full of twists and turns.\",\n",
    "    \"She's a gifted poet who conveys emotions beautifully.\",\n",
    "    \"The city's skyline is illuminated at night.\",\n",
    "    \"He painted a realistic portrait of his subject.\",\n",
    "    \"The fragrance of the ocean breeze is invigorating.\",\n",
    "    \"She's an advocate for environmental conservation.\",\n",
    "    \"The dance performance was captivating and dynamic.\",\n",
    "    \"He sculpted a lifelike figure from clay.\",\n",
    "    \"The mystery novel keeps readers guessing.\",\n",
    "    \"She's a skilled artisan who creates unique pottery.\",\n",
    "    \"The scent of fresh grass fills the air after rain.\",\n",
    "    \"He's a brilliant mathematician known for his theories.\",\n",
    "    \"The play's dialogue captures the essence of human relationships.\"\n",
    "]"
   ]
  },
  {
   "cell_type": "raw",
   "id": "9b679ec9",
   "metadata": {},
   "source": [
    "We need to build the dense vector representation(embeddings) using sentence transformer"
   ]
  },
  {
   "cell_type": "code",
   "execution_count": 2,
   "id": "1fc3bba9",
   "metadata": {},
   "outputs": [
    {
     "name": "stderr",
     "output_type": "stream",
     "text": [
      "C:\\Users\\vishnupj\\Envs\\sematic_similarity\\lib\\site-packages\\tqdm\\auto.py:21: TqdmWarning: IProgress not found. Please update jupyter and ipywidgets. See https://ipywidgets.readthedocs.io/en/stable/user_install.html\n",
      "  from .autonotebook import tqdm as notebook_tqdm\n"
     ]
    },
    {
     "data": {
      "text/plain": [
       "(107, 768)"
      ]
     },
     "execution_count": 2,
     "metadata": {},
     "output_type": "execute_result"
    }
   ],
   "source": [
    "from sentence_transformers import SentenceTransformer\n",
    "# initialize sentence transformer model\n",
    "model = SentenceTransformer('bert-base-nli-mean-tokens')\n",
    "# create sentence embeddings\n",
    "sentence_embeddings = model.encode(sentences)\n",
    "sentence_embeddings.shape"
   ]
  },
  {
   "cell_type": "markdown",
   "id": "7b021107-da45-4ece-98d3-53ddf4ecae40",
   "metadata": {},
   "source": [
    "### IndexFlatL2"
   ]
  },
  {
   "cell_type": "raw",
   "id": "c2203cc4-487f-4e21-a3ad-4148f3a63e35",
   "metadata": {},
   "source": [
    "IndexFlatL2 is a method which will give indexes (according to the indexes of sentences)\n",
    "\n",
    "IndexFlatL2 measures the L2 (or Euclidean) distance between all given points between our query vector, and the vectors loaded into the index. It’s simple, very accurate, but not too fast."
   ]
  },
  {
   "cell_type": "code",
   "execution_count": 3,
   "id": "db40712e-c3f4-4937-8600-68d6c862bc43",
   "metadata": {},
   "outputs": [],
   "source": [
    "from IPython.display import Image"
   ]
  },
  {
   "cell_type": "code",
   "execution_count": 4,
   "id": "16015b49-3092-4c0f-9a2d-0c9e65d929f5",
   "metadata": {},
   "outputs": [
    {
     "data": {
      "text/html": [
       "<img src=\"l2.png\" width=\"500\" height=\"500\"/>"
      ],
      "text/plain": [
       "<IPython.core.display.Image object>"
      ]
     },
     "execution_count": 4,
     "metadata": {},
     "output_type": "execute_result"
    }
   ],
   "source": [
    "# get the image\n",
    "Image(url=\"l2.png\", width=500, height=500)"
   ]
  },
  {
   "cell_type": "code",
   "execution_count": 5,
   "id": "aa0b7345-0a20-46dc-b7d2-a1afc7bcdeb1",
   "metadata": {},
   "outputs": [],
   "source": [
    "import faiss"
   ]
  },
  {
   "cell_type": "code",
   "execution_count": 6,
   "id": "fe346ab4-ed40-4879-9850-a1f8435e9870",
   "metadata": {},
   "outputs": [],
   "source": [
    "d = sentence_embeddings.shape[1] #768\n",
    "index_l2 = faiss.IndexFlatL2(d)  # for each sentence it will assign an index( 0,1,2,3,4)"
   ]
  },
  {
   "cell_type": "code",
   "execution_count": 7,
   "id": "aadea80f-b974-4164-81f4-e9f93e77e7b0",
   "metadata": {},
   "outputs": [
    {
     "data": {
      "text/plain": [
       "True"
      ]
     },
     "execution_count": 7,
     "metadata": {},
     "output_type": "execute_result"
    }
   ],
   "source": [
    "index_l2.is_trained #l2 does not need to be trained, since there is no clustering process involved. (so it will return True, no trainig needed)"
   ]
  },
  {
   "cell_type": "raw",
   "id": "4d35836c-93c8-4148-a9db-8a09cd6d58f6",
   "metadata": {},
   "source": [
    "Often, we’ll be using indexes that require us to train them before loading in our data. We can check whether an index needs to be trained using the is_trained method. IndexFlatL2 is not an index that requires training."
   ]
  },
  {
   "cell_type": "code",
   "execution_count": 8,
   "id": "18d9bf20-9d67-4cbe-84f3-f244da601e2a",
   "metadata": {},
   "outputs": [],
   "source": [
    "index_l2.add(sentence_embeddings)"
   ]
  },
  {
   "cell_type": "code",
   "execution_count": 9,
   "id": "efe64296-2a9f-452c-987d-33107093ae40",
   "metadata": {},
   "outputs": [
    {
     "data": {
      "text/plain": [
       "107"
      ]
     },
     "execution_count": 9,
     "metadata": {},
     "output_type": "execute_result"
    }
   ],
   "source": [
    "index_l2.ntotal"
   ]
  },
  {
   "cell_type": "raw",
   "id": "d5b134cc-074f-4de6-8bcf-1c103f6a4708",
   "metadata": {},
   "source": [
    "Then search given a query `xq` and number of nearest neigbors to return `k`."
   ]
  },
  {
   "cell_type": "code",
   "execution_count": 10,
   "id": "1d45c400-fc99-42d9-bfdf-8e69e1982ede",
   "metadata": {},
   "outputs": [],
   "source": [
    "k = 4\n",
    "xq = model.encode([\"where are the best actors in India\"])"
   ]
  },
  {
   "cell_type": "raw",
   "id": "99041a4d-bdac-4c6b-bf1b-c9757dd188ae",
   "metadata": {},
   "source": [
    "Matrix D is the matrix of squared distances. It has the same shape as I and indicates for each result vector at the query’s squared Euclidean distance.\n",
    "Matrix I gives the indexes"
   ]
  },
  {
   "cell_type": "code",
   "execution_count": 11,
   "id": "fbad3fea-f14e-4d3d-a741-f5ffdf7d760a",
   "metadata": {},
   "outputs": [
    {
     "name": "stdout",
     "output_type": "stream",
     "text": [
      "[[266.2829  281.84766 289.68085 293.21533]]\n",
      "[[ 91  32 105  69]]\n",
      "CPU times: total: 0 ns\n",
      "Wall time: 997 µs\n"
     ]
    }
   ],
   "source": [
    "\n",
    "%%time\n",
    "D, I = index_l2.search(xq, k)  # search\n",
    "print(D)\n",
    "print(I)"
   ]
  },
  {
   "cell_type": "code",
   "execution_count": 12,
   "id": "25b4633c-d459-45c3-9757-d36c7582d9da",
   "metadata": {},
   "outputs": [
    {
     "data": {
      "text/plain": [
       "[\"the similar sentences are : She's a talented actress with a versatile range.\",\n",
       " \"the similar sentences are : He's known for his brilliant scientific discoveries.\",\n",
       " \"the similar sentences are : He's a brilliant mathematician known for his theories.\",\n",
       " \"the similar sentences are : The play's dialogue is witty and clever.\"]"
      ]
     },
     "execution_count": 12,
     "metadata": {},
     "output_type": "execute_result"
    }
   ],
   "source": [
    "# Here we're returning indices `2`, `4`, `3`, and `0`, which returns:\n",
    "[f\"the similar sentences are : {sentences[i]}\" for i in I[0]]"
   ]
  },
  {
   "cell_type": "markdown",
   "id": "32c274a8-a46e-4758-8afc-28272b7d71dd",
   "metadata": {},
   "source": [
    "### Partitioning The Index"
   ]
  },
  {
   "cell_type": "raw",
   "id": "7a6d751f-7018-46de-9a22-f927ba57ad7d",
   "metadata": {},
   "source": [
    "Faiss allows us to add multiple steps that can optimize our search using many different methods. A popular approach is to partition the index into Voronoi cells."
   ]
  },
  {
   "cell_type": "code",
   "execution_count": 13,
   "id": "3866e722-ce7c-4ec3-83cd-f2545bfd333d",
   "metadata": {},
   "outputs": [
    {
     "data": {
      "text/html": [
       "<img src=\"voronoi.png\" width=\"500\" height=\"500\"/>"
      ],
      "text/plain": [
       "<IPython.core.display.Image object>"
      ]
     },
     "execution_count": 13,
     "metadata": {},
     "output_type": "execute_result"
    }
   ],
   "source": [
    "\n",
    "Image(url=\"voronoi.png\", width=500, height=500)"
   ]
  },
  {
   "cell_type": "raw",
   "id": "bb29fee1-2832-41f4-a02d-c53b98d22a5d",
   "metadata": {},
   "source": [
    "Here we divide the vectors into cells.These cells have centroid. Instead of calculating distance with every vector in the cell, we are first finding the distance between centroids and then continue the search iside that cell only. Thus making the search much faster.\n",
    "\n",
    "Using this method, we would take a query vector xq, identify the cell it belongs to, and then use our IndexFlatL2 (or another metric) to search between the query vector and all other vectors belonging to that specific cell.\n",
    "\n",
    "So, we are reducing the scope of our search, producing an approximate answer, rather than exact (as produced through exhaustive search).\n",
    "\n",
    "To implement this, we first initialize our index using IndexFlatL2 — but this time, we are using the L2 index as a quantizer step — which we feed into the partitioning IndexIVFFlat index."
   ]
  },
  {
   "cell_type": "code",
   "execution_count": 14,
   "id": "c680ebda-a4ac-4491-be7b-5ffcc2c11d5b",
   "metadata": {},
   "outputs": [],
   "source": [
    "nlist = 50  # how many cells\n",
    "quantizer = faiss.IndexFlatL2(d) # we are still using L2 for calculating distance\n",
    "index_ivf = faiss.IndexIVFFlat(quantizer, d, nlist) # this is the orig indexing method"
   ]
  },
  {
   "cell_type": "code",
   "execution_count": 15,
   "id": "420caa31-b112-4bc1-acd8-290c9cd4a98c",
   "metadata": {},
   "outputs": [
    {
     "data": {
      "text/plain": [
       "False"
      ]
     },
     "execution_count": 15,
     "metadata": {},
     "output_type": "execute_result"
    }
   ],
   "source": [
    "index_ivf.is_trained # we need to train , since there is clustering process involved\n"
   ]
  },
  {
   "cell_type": "code",
   "execution_count": 16,
   "id": "fde4480c-fe75-4b1c-b5af-dceceaeaa89d",
   "metadata": {},
   "outputs": [],
   "source": [
    "index_ivf.train(sentence_embeddings) # trainig the sentence embeddings(cliustering)"
   ]
  },
  {
   "cell_type": "code",
   "execution_count": 17,
   "id": "3359241c-acad-43a5-bb5a-6512f4c09ddc",
   "metadata": {},
   "outputs": [
    {
     "data": {
      "text/plain": [
       "True"
      ]
     },
     "execution_count": 17,
     "metadata": {},
     "output_type": "execute_result"
    }
   ],
   "source": [
    "index_ivf.is_trained # training done"
   ]
  },
  {
   "cell_type": "code",
   "execution_count": 18,
   "id": "0bf7d918-3192-4ac4-a98d-29c2b418358d",
   "metadata": {},
   "outputs": [
    {
     "data": {
      "text/plain": [
       "107"
      ]
     },
     "execution_count": 18,
     "metadata": {},
     "output_type": "execute_result"
    }
   ],
   "source": [
    "index_ivf.add(sentence_embeddings)\n",
    "index_l2.ntotal"
   ]
  },
  {
   "cell_type": "code",
   "execution_count": 19,
   "id": "a7774c44-a7a6-4bb8-b16c-325436705a96",
   "metadata": {},
   "outputs": [
    {
     "name": "stdout",
     "output_type": "stream",
     "text": [
      "[[ 69  66  37 106]]\n",
      "CPU times: total: 0 ns\n",
      "Wall time: 997 µs\n"
     ]
    }
   ],
   "source": [
    "%%time\n",
    "D, I = index_ivf.search(xq, k)  # search\n",
    "print(I)"
   ]
  },
  {
   "cell_type": "code",
   "execution_count": 20,
   "id": "2acc2e11-a327-4e53-b2e1-f3b453f4702d",
   "metadata": {},
   "outputs": [
    {
     "data": {
      "text/plain": [
       "[\"the similar sentences are : The play's dialogue is witty and clever.\",\n",
       " \"the similar sentences are : He's a master storyteller with a vivid imagination.\",\n",
       " 'the similar sentences are : He demonstrated a clever magic trick.',\n",
       " \"the similar sentences are : The play's dialogue captures the essence of human relationships.\"]"
      ]
     },
     "execution_count": 20,
     "metadata": {},
     "output_type": "execute_result"
    }
   ],
   "source": [
    "[f\"the similar sentences are : {sentences[i]}\" for i in I[0]]"
   ]
  },
  {
   "cell_type": "raw",
   "id": "62bf5294-0f81-4002-bdd1-914273ed482a",
   "metadata": {},
   "source": [
    "If approximate search with IndexIVFFlat returns suboptimal results, we can improve accuracy by increasing the search scope. We do this by increasing the nprobe attribute value — which defines how many nearby cells to search."
   ]
  },
  {
   "cell_type": "code",
   "execution_count": 21,
   "id": "9395a0c4-4305-4c1a-8a46-ec582ae4b43d",
   "metadata": {},
   "outputs": [],
   "source": [
    "index_ivf.nprobe = 10"
   ]
  },
  {
   "cell_type": "code",
   "execution_count": 22,
   "id": "1910faaf-4e8d-41f9-8971-af68ec760a53",
   "metadata": {},
   "outputs": [
    {
     "name": "stdout",
     "output_type": "stream",
     "text": [
      "[[ 91  32 105  69]]\n",
      "CPU times: total: 0 ns\n",
      "Wall time: 897 µs\n"
     ]
    }
   ],
   "source": [
    "%%time\n",
    "D, I = index_ivf.search(xq, k)  # search\n",
    "print(I)"
   ]
  },
  {
   "cell_type": "code",
   "execution_count": 23,
   "id": "0c5fd6d0-4e2e-41dc-b231-12063a08865a",
   "metadata": {},
   "outputs": [
    {
     "data": {
      "text/plain": [
       "[\"the similar sentences are : She's a talented actress with a versatile range.\",\n",
       " \"the similar sentences are : He's known for his brilliant scientific discoveries.\",\n",
       " \"the similar sentences are : He's a brilliant mathematician known for his theories.\",\n",
       " \"the similar sentences are : The play's dialogue is witty and clever.\"]"
      ]
     },
     "execution_count": 23,
     "metadata": {},
     "output_type": "execute_result"
    }
   ],
   "source": [
    "[f\"the similar sentences are : {sentences[i]}\" for i in I[0]]"
   ]
  },
  {
   "cell_type": "markdown",
   "id": "7068740e-6eef-4e33-a8e2-7a51e88fec34",
   "metadata": {},
   "source": [
    "## Quantization"
   ]
  },
  {
   "cell_type": "raw",
   "id": "c582da3c-fe32-4078-885c-3260dec73efc",
   "metadata": {},
   "source": [
    "All of our indexes so far have stored our vectors as full (eg Flat) vectors. Now, in very large datasets this can quickly become a problem.\n",
    "Fortunately, Faiss comes with the ability to compress our vectors using Product Quantization (PQ).\n",
    "But, what is PQ? Well, we can view it as an additional approximation step with a similar outcome to our use of IVF. Where IVF allowed us to approximate by reducing the scope of our search, PQ approximates the distance/similarity calculation instead.\n",
    "\n",
    "PQ achieves this approximated similarity operation by compressing the vectors themselves, which consists of three steps.\n",
    " * We split the original vector into several subvectors.\n",
    " * For each set of subvectors, we perform a clustering operation — creating multiple centroids for each sub-vector set.\n",
    " * In our vector of sub-vectors, we replace each sub-vector with the ID of it’s nearest set-specific centroid."
   ]
  },
  {
   "cell_type": "code",
   "execution_count": 24,
   "id": "3a30ad4f-6b32-4229-8c3c-f276bf09c07e",
   "metadata": {},
   "outputs": [
    {
     "data": {
      "text/html": [
       "<img src=\"qunatisation_1.png\" width=\"500\" height=\"500\"/>"
      ],
      "text/plain": [
       "<IPython.core.display.Image object>"
      ]
     },
     "execution_count": 24,
     "metadata": {},
     "output_type": "execute_result"
    }
   ],
   "source": [
    "Image(url=\"qunatisation_1.png\", width=500, height=500)"
   ]
  },
  {
   "cell_type": "code",
   "execution_count": 25,
   "id": "9b1d5be7-9278-4136-ac03-02329703a2ff",
   "metadata": {},
   "outputs": [
    {
     "data": {
      "text/html": [
       "<img src=\"quantisation_2.jpeg\" width=\"700\" height=\"700\"/>"
      ],
      "text/plain": [
       "<IPython.core.display.Image object>"
      ]
     },
     "execution_count": 25,
     "metadata": {},
     "output_type": "execute_result"
    }
   ],
   "source": [
    "Image(url=\"quantisation_2.jpeg\", width=700, height=700)"
   ]
  },
  {
   "cell_type": "code",
   "execution_count": 26,
   "id": "158092a6-8ea3-427a-97ff-5a6751e57a5f",
   "metadata": {},
   "outputs": [],
   "source": [
    "m = 64  # number of centroid IDs in final compressed vectors\n",
    "bits = 4 # number of bits in each centroid\n",
    "\n",
    "# Each product quantizer has 2^nbits centroids. k-means is used to produce the centroids. \n",
    "# Here 2^4 = 16 (It should be less than total sentence embeddingds)\n",
    "\n",
    "quantizer = faiss.IndexFlatL2(d)  # we keep the same L2 distance flat index\n",
    "index_IVFPQ = faiss.IndexIVFPQ(quantizer, d, nlist, m, bits) "
   ]
  },
  {
   "cell_type": "code",
   "execution_count": 27,
   "id": "3f7d1659-848c-4e1e-ae53-fa765f84629a",
   "metadata": {},
   "outputs": [
    {
     "data": {
      "text/plain": [
       "False"
      ]
     },
     "execution_count": 27,
     "metadata": {},
     "output_type": "execute_result"
    }
   ],
   "source": [
    "index_IVFPQ.is_trained "
   ]
  },
  {
   "cell_type": "code",
   "execution_count": 28,
   "id": "edbce57a-95f9-4733-9043-7375969aa4bd",
   "metadata": {},
   "outputs": [
    {
     "data": {
      "text/plain": [
       "True"
      ]
     },
     "execution_count": 28,
     "metadata": {},
     "output_type": "execute_result"
    }
   ],
   "source": [
    "index_IVFPQ.train(sentence_embeddings)   \n",
    "index_IVFPQ.is_trained "
   ]
  },
  {
   "cell_type": "code",
   "execution_count": 29,
   "id": "97b86e85-7614-4f7e-b75a-73da7ff58ebe",
   "metadata": {},
   "outputs": [],
   "source": [
    "index_IVFPQ.add(sentence_embeddings)"
   ]
  },
  {
   "cell_type": "code",
   "execution_count": 30,
   "id": "4b3900b3-68fc-45e5-8595-ef3d6d7c5ce6",
   "metadata": {},
   "outputs": [],
   "source": [
    "index_IVFPQ.nprobe = 10  # align to previous IndexIVFFlat nprobe value"
   ]
  },
  {
   "cell_type": "code",
   "execution_count": 31,
   "id": "b605e589-b3fd-4368-80f3-0d25fc5328b6",
   "metadata": {},
   "outputs": [
    {
     "name": "stdout",
     "output_type": "stream",
     "text": [
      "[[69 66 37 91]]\n",
      "CPU times: total: 0 ns\n",
      "Wall time: 998 µs\n"
     ]
    }
   ],
   "source": [
    "%%time\n",
    "D, I = index_IVFPQ.search(xq, k)\n",
    "print(I)"
   ]
  },
  {
   "cell_type": "code",
   "execution_count": 32,
   "id": "281e72d2-bd1f-4a41-9e59-2efcc4fe6032",
   "metadata": {},
   "outputs": [
    {
     "data": {
      "text/plain": [
       "[\"the similar sentences are : The play's dialogue is witty and clever.\",\n",
       " \"the similar sentences are : He's a master storyteller with a vivid imagination.\",\n",
       " 'the similar sentences are : He demonstrated a clever magic trick.',\n",
       " \"the similar sentences are : She's a talented actress with a versatile range.\"]"
      ]
     },
     "execution_count": 32,
     "metadata": {},
     "output_type": "execute_result"
    }
   ],
   "source": [
    "[f\"the similar sentences are : {sentences[i]}\" for i in I[0]]"
   ]
  },
  {
   "cell_type": "code",
   "execution_count": null,
   "id": "e7e145b6-65dc-4034-acea-9c19355bae13",
   "metadata": {},
   "outputs": [],
   "source": []
  }
 ],
 "metadata": {
  "kernelspec": {
   "display_name": "semantic_similarity",
   "language": "python",
   "name": "semantic_similarity"
  },
  "language_info": {
   "codemirror_mode": {
    "name": "ipython",
    "version": 3
   },
   "file_extension": ".py",
   "mimetype": "text/x-python",
   "name": "python",
   "nbconvert_exporter": "python",
   "pygments_lexer": "ipython3",
   "version": "3.9.12"
  }
 },
 "nbformat": 4,
 "nbformat_minor": 5
}
